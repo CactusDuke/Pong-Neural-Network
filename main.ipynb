{
 "cells": [
  {
   "cell_type": "markdown",
   "metadata": {},
   "source": [
    "#Installing dependencies"
   ]
  },
  {
   "cell_type": "code",
   "execution_count": 1,
   "metadata": {},
   "outputs": [
    {
     "name": "stdout",
     "output_type": "stream",
     "text": [
      "Requirement already satisfied: pygame in ./.venv/lib/python3.11/site-packages (2.6.1)\n",
      "Requirement already satisfied: numpy in ./.venv/lib/python3.11/site-packages (2.1.3)\n"
     ]
    }
   ],
   "source": [
    "!pip install pygame\n",
    "!pip install numpy"
   ]
  },
  {
   "cell_type": "code",
   "execution_count": 2,
   "metadata": {},
   "outputs": [
    {
     "name": "stdout",
     "output_type": "stream",
     "text": [
      "pygame 2.6.1 (SDL 2.28.4, Python 3.11.2)\n",
      "Hello from the pygame community. https://www.pygame.org/contribute.html\n"
     ]
    }
   ],
   "source": [
    "from training import *\n",
    "from game import *"
   ]
  },
  {
   "cell_type": "markdown",
   "metadata": {},
   "source": [
    "#Training\n",
    "If a text file with weights have not been created yet run this\n",
    "\n",
    "This takes ages and is bad, I need to optimise \\n\\t >Look into speeding up and or removing visual ascpect."
   ]
  },
  {
   "cell_type": "code",
   "execution_count": 5,
   "metadata": {},
   "outputs": [
    {
     "ename": "KeyboardInterrupt",
     "evalue": "",
     "output_type": "error",
     "traceback": [
      "\u001b[0;31m---------------------------------------------------------------------------\u001b[0m",
      "\u001b[0;31mKeyboardInterrupt\u001b[0m                         Traceback (most recent call last)",
      "Cell \u001b[0;32mIn[5], line 1\u001b[0m\n\u001b[0;32m----> 1\u001b[0m \u001b[43mtrainVisual\u001b[49m\u001b[43m(\u001b[49m\u001b[38;5;124;43m\"\u001b[39;49m\u001b[38;5;124;43mTraining.txt\u001b[39;49m\u001b[38;5;124;43m\"\u001b[39;49m\u001b[43m)\u001b[49m\n",
      "File \u001b[0;32m~/Documents/Pong-Neural-Network/training.py:95\u001b[0m, in \u001b[0;36mtrainVisual\u001b[0;34m(fileName)\u001b[0m\n\u001b[1;32m     92\u001b[0m         direction \u001b[38;5;241m=\u001b[39m \u001b[38;5;241m-\u001b[39m\u001b[38;5;241m1\u001b[39m \u001b[38;5;66;03m#Down\u001b[39;00m\n\u001b[1;32m     94\u001b[0m     \u001b[38;5;66;03m#Updating game states\u001b[39;00m\n\u001b[0;32m---> 95\u001b[0m     array, running, globScore, player_pos, ball_pos, ball_dir \u001b[38;5;241m=\u001b[39m \u001b[43mAIControlled\u001b[49m\u001b[43m(\u001b[49m\u001b[43mscreen\u001b[49m\u001b[43m,\u001b[49m\u001b[43m \u001b[49m\u001b[43mplayer_pos\u001b[49m\u001b[43m,\u001b[49m\u001b[43m \u001b[49m\u001b[43mball_pos\u001b[49m\u001b[43m,\u001b[49m\u001b[43m \u001b[49m\u001b[43mball_dir\u001b[49m\u001b[43m,\u001b[49m\u001b[43m \u001b[49m\u001b[43mrunning\u001b[49m\u001b[43m,\u001b[49m\u001b[43m \u001b[49m\u001b[43mglobScore\u001b[49m\u001b[43m,\u001b[49m\u001b[43m \u001b[49m\u001b[43mdirection\u001b[49m\u001b[43m,\u001b[49m\u001b[43m \u001b[49m\u001b[43mclock\u001b[49m\u001b[43m,\u001b[49m\u001b[43m \u001b[49m\u001b[43mtrainieNum\u001b[49m\u001b[43m,\u001b[49m\u001b[43m \u001b[49m\u001b[43mgenCount\u001b[49m\u001b[43m)\u001b[49m\n\u001b[1;32m     97\u001b[0m \u001b[38;5;66;03m#Saves the networks score to a dictionary\u001b[39;00m\n\u001b[1;32m     98\u001b[0m oldGen[network] \u001b[38;5;241m=\u001b[39m globScore\n",
      "File \u001b[0;32m~/Documents/Pong-Neural-Network/game.py:130\u001b[0m, in \u001b[0;36mAIControlled\u001b[0;34m(screen, player_pos, ball_pos, ball_dir, running, globScore, direction, clock, trainieNum, genNum, visual)\u001b[0m\n\u001b[1;32m    127\u001b[0m \u001b[38;5;66;03m#dt = clock.tick(1200) / 50\u001b[39;00m\n\u001b[1;32m    128\u001b[0m \u001b[38;5;66;03m#Checking if it should be visulized\u001b[39;00m\n\u001b[1;32m    129\u001b[0m \u001b[38;5;28;01mif\u001b[39;00m visual:\n\u001b[0;32m--> 130\u001b[0m     \u001b[43mdrawObjects\u001b[49m\u001b[43m(\u001b[49m\u001b[43mscreen\u001b[49m\u001b[43m,\u001b[49m\u001b[43m \u001b[49m\u001b[43mplayer_pos\u001b[49m\u001b[43m,\u001b[49m\u001b[43m \u001b[49m\u001b[43mball_pos\u001b[49m\u001b[43m,\u001b[49m\u001b[43m \u001b[49m\u001b[43mglobScore\u001b[49m\u001b[43m,\u001b[49m\u001b[43m \u001b[49m\u001b[43mtrainieNum\u001b[49m\u001b[43m,\u001b[49m\u001b[43m \u001b[49m\u001b[43mgenNum\u001b[49m\u001b[43m)\u001b[49m \u001b[38;5;66;03m#Function to draw shapes and text\u001b[39;00m\n\u001b[1;32m    131\u001b[0m \u001b[38;5;66;03m#TODO add the gen number and specific network's number within the gen to drawing\u001b[39;00m\n\u001b[1;32m    132\u001b[0m player_pos \u001b[38;5;241m=\u001b[39m gameMovement(screen, direction, player_pos, dt) \u001b[38;5;66;03m#Movies the player and ensures it maintains within the bounds\u001b[39;00m\n",
      "File \u001b[0;32m~/Documents/Pong-Neural-Network/game.py:16\u001b[0m, in \u001b[0;36mdrawObjects\u001b[0;34m(screen, player_pos, ball_pos, globScore, trainieNum, genNum)\u001b[0m\n\u001b[1;32m     13\u001b[0m pygame\u001b[38;5;241m.\u001b[39mdraw\u001b[38;5;241m.\u001b[39mcircle(screen, \u001b[38;5;124m\"\u001b[39m\u001b[38;5;124mwhite\u001b[39m\u001b[38;5;124m\"\u001b[39m, ball_pos, \u001b[38;5;241m20\u001b[39m)\n\u001b[1;32m     15\u001b[0m \u001b[38;5;66;03m#Player\u001b[39;00m\n\u001b[0;32m---> 16\u001b[0m \u001b[43mpygame\u001b[49m\u001b[38;5;241;43m.\u001b[39;49m\u001b[43mdraw\u001b[49m\u001b[38;5;241;43m.\u001b[39;49m\u001b[43mrect\u001b[49m\u001b[43m(\u001b[49m\u001b[43mscreen\u001b[49m\u001b[43m,\u001b[49m\u001b[43m \u001b[49m\u001b[38;5;124;43m\"\u001b[39;49m\u001b[38;5;124;43mred\u001b[39;49m\u001b[38;5;124;43m\"\u001b[39;49m\u001b[43m,\u001b[49m\u001b[43m \u001b[49m\u001b[43mpygame\u001b[49m\u001b[38;5;241;43m.\u001b[39;49m\u001b[43mRect\u001b[49m\u001b[43m(\u001b[49m\u001b[43mplayer_pos\u001b[49m\u001b[38;5;241;43m.\u001b[39;49m\u001b[43mx\u001b[49m\u001b[43m \u001b[49m\u001b[38;5;241;43m-\u001b[39;49m\u001b[43m \u001b[49m\u001b[38;5;241;43m30\u001b[39;49m\u001b[43m,\u001b[49m\u001b[43m \u001b[49m\u001b[43mplayer_pos\u001b[49m\u001b[38;5;241;43m.\u001b[39;49m\u001b[43my\u001b[49m\u001b[43m,\u001b[49m\u001b[43m \u001b[49m\u001b[38;5;241;43m30\u001b[39;49m\u001b[43m,\u001b[49m\u001b[43m \u001b[49m\u001b[43mscreen\u001b[49m\u001b[38;5;241;43m.\u001b[39;49m\u001b[43mget_height\u001b[49m\u001b[43m(\u001b[49m\u001b[43m)\u001b[49m\u001b[43m \u001b[49m\u001b[38;5;241;43m/\u001b[39;49m\u001b[43m \u001b[49m\u001b[38;5;241;43m6\u001b[39;49m\u001b[43m)\u001b[49m\u001b[43m)\u001b[49m\n\u001b[1;32m     18\u001b[0m \u001b[38;5;66;03m#Print score\u001b[39;00m\n\u001b[1;32m     19\u001b[0m font \u001b[38;5;241m=\u001b[39m pygame\u001b[38;5;241m.\u001b[39mfont\u001b[38;5;241m.\u001b[39mFont(\u001b[38;5;124m'\u001b[39m\u001b[38;5;124mfreesansbold.ttf\u001b[39m\u001b[38;5;124m'\u001b[39m, \u001b[38;5;241m32\u001b[39m)\n",
      "\u001b[0;31mKeyboardInterrupt\u001b[0m: "
     ]
    }
   ],
   "source": [
    "trainVisual(\"Training.txt\")"
   ]
  },
  {
   "cell_type": "markdown",
   "metadata": {},
   "source": [
    "#Running Trained Network\n",
    "For the minute just look at the saved text file and manually paste.\\n\n",
    "This is super manual for the minute"
   ]
  },
  {
   "cell_type": "code",
   "execution_count": 3,
   "metadata": {},
   "outputs": [],
   "source": [
    "#This is a network that acheived 831 points\n",
    "\n",
    "#Layer 1 (Hidden Layer)\n",
    "weightsLayer1 = [[-0.1529508627413168, 3.482862155785938, 2.3325548032815275, 2.2033267131462475, -2.616073163147956, -0.3132512512063481], [1.896715295925882, 1.7092108684974994, -0.2622197504352236, -0.2988893768873544, 3.7005107960040333, -3.6705765930223704], [-3.475270413123554, 3.391303839944979, -3.0324124855500156, -5.030402735408237, -2.4455108359897273, -4.002082245015845]]\n",
    "biasesLayer1 = [0.42783214036605133, 2.7842252518168538, 0.6158182335814206]\n",
    "layer1 = Layer(3)\n",
    "layer1.weights = weightsLayer1\n",
    "layer1.biases = biasesLayer1\n",
    "\n",
    "#Layer 2 (Output Layer)\n",
    "weightsLayer2 = [[-5.089559645849146, 0.8950495124585208, 2.4925911853735827], [1.2745061397263158, -4.476238518213317, -2.918057769175149]]\n",
    "biasesLayer2 = [0.4617301379570703, -3.782978540390338]\n",
    "layer2 = Layer(2)\n",
    "layer2.weights = weightsLayer2\n",
    "layer2.biases = biasesLayer2\n",
    "\n",
    "#Array of layers to pass through\n",
    "empty = Layer(6) #Place holder for input layer\n",
    "array = [empty, layer1, layer2]\n",
    "\n",
    "network = Network(3, [6, 3, 2]) # Three layers with 6 node, 3 nodes and 2 nodes respectivly\n",
    "network.copyWeights(array)"
   ]
  },
  {
   "cell_type": "code",
   "execution_count": null,
   "metadata": {},
   "outputs": [],
   "source": [
    "#Values that have not been translated\n",
    "\"\"\"\n",
    "Score: 920\n",
    "\n",
    "Layer 1\n",
    "Weights\n",
    "-0.2615649403661867 3.2389492233524453 2.1159247839679387 1.6904419776199386 -2.922027130206965 -0.5651174133893144 ;1.5771829016897192 2.011139604329636 0.2824221182330008 -0.5420823159065009 2.6743880410919894 -3.599902804132724 ;-2.758246877950049 3.2470308818833487 -3.7567719476134434 -4.294167878469802 -3.0661365289647025 -3.919982266233788 ;\n",
    "Biases\n",
    "0.5220894917823738 2.989532166236309 0.34628063449073543 \n",
    "Layer 2\n",
    "Weights\n",
    "-4.867364392177736 0.5725914191679717 1.9307240968960544 ;0.6364083348544197 -4.92257893598071 -2.044480645090759 ;\n",
    "Biases\n",
    "0.4955263418015351 -3.7626443145350605 \n",
    "\"\"\""
   ]
  },
  {
   "cell_type": "code",
   "execution_count": 4,
   "metadata": {},
   "outputs": [
    {
     "ename": "KeyboardInterrupt",
     "evalue": "",
     "output_type": "error",
     "traceback": [
      "\u001b[0;31m---------------------------------------------------------------------------\u001b[0m",
      "\u001b[0;31mKeyboardInterrupt\u001b[0m                         Traceback (most recent call last)",
      "Cell \u001b[0;32mIn[4], line 24\u001b[0m\n\u001b[1;32m     21\u001b[0m         direction \u001b[38;5;241m=\u001b[39m \u001b[38;5;241m-\u001b[39m\u001b[38;5;241m1\u001b[39m \u001b[38;5;66;03m#Down\u001b[39;00m\n\u001b[1;32m     23\u001b[0m     \u001b[38;5;66;03m#Updating game state and displaying\u001b[39;00m\n\u001b[0;32m---> 24\u001b[0m     array, running, globScore, player_pos, ball_pos, ball_dir \u001b[38;5;241m=\u001b[39m \u001b[43mAIControlled\u001b[49m\u001b[43m(\u001b[49m\u001b[43mscreen\u001b[49m\u001b[43m,\u001b[49m\u001b[43m \u001b[49m\u001b[43mplayer_pos\u001b[49m\u001b[43m,\u001b[49m\u001b[43m \u001b[49m\u001b[43mball_pos\u001b[49m\u001b[43m,\u001b[49m\u001b[43m \u001b[49m\u001b[43mball_dir\u001b[49m\u001b[43m,\u001b[49m\u001b[43m \u001b[49m\u001b[43mrunning\u001b[49m\u001b[43m,\u001b[49m\u001b[43m \u001b[49m\u001b[43mglobScore\u001b[49m\u001b[43m,\u001b[49m\u001b[43m \u001b[49m\u001b[43mdirection\u001b[49m\u001b[43m,\u001b[49m\u001b[43m \u001b[49m\u001b[43mclock\u001b[49m\u001b[43m)\u001b[49m\n\u001b[1;32m     26\u001b[0m pygame\u001b[38;5;241m.\u001b[39mquit()\n",
      "File \u001b[0;32m~/Documents/Pong-Neural-Network/game.py:130\u001b[0m, in \u001b[0;36mAIControlled\u001b[0;34m(screen, player_pos, ball_pos, ball_dir, running, globScore, direction, clock, trainieNum, genNum, visual)\u001b[0m\n\u001b[1;32m    127\u001b[0m \u001b[38;5;66;03m#dt = clock.tick(1200) / 50\u001b[39;00m\n\u001b[1;32m    128\u001b[0m \u001b[38;5;66;03m#Checking if it should be visulized\u001b[39;00m\n\u001b[1;32m    129\u001b[0m \u001b[38;5;28;01mif\u001b[39;00m visual:\n\u001b[0;32m--> 130\u001b[0m     \u001b[43mdrawObjects\u001b[49m\u001b[43m(\u001b[49m\u001b[43mscreen\u001b[49m\u001b[43m,\u001b[49m\u001b[43m \u001b[49m\u001b[43mplayer_pos\u001b[49m\u001b[43m,\u001b[49m\u001b[43m \u001b[49m\u001b[43mball_pos\u001b[49m\u001b[43m,\u001b[49m\u001b[43m \u001b[49m\u001b[43mglobScore\u001b[49m\u001b[43m,\u001b[49m\u001b[43m \u001b[49m\u001b[43mtrainieNum\u001b[49m\u001b[43m,\u001b[49m\u001b[43m \u001b[49m\u001b[43mgenNum\u001b[49m\u001b[43m)\u001b[49m \u001b[38;5;66;03m#Function to draw shapes and text\u001b[39;00m\n\u001b[1;32m    131\u001b[0m \u001b[38;5;66;03m#TODO add the gen number and specific network's number within the gen to drawing\u001b[39;00m\n\u001b[1;32m    132\u001b[0m player_pos \u001b[38;5;241m=\u001b[39m gameMovement(screen, direction, player_pos, dt) \u001b[38;5;66;03m#Movies the player and ensures it maintains within the bounds\u001b[39;00m\n",
      "File \u001b[0;32m~/Documents/Pong-Neural-Network/game.py:41\u001b[0m, in \u001b[0;36mdrawObjects\u001b[0;34m(screen, player_pos, ball_pos, globScore, trainieNum, genNum)\u001b[0m\n\u001b[1;32m     38\u001b[0m     textRect\u001b[38;5;241m.\u001b[39mcenter \u001b[38;5;241m=\u001b[39m (\u001b[38;5;241m3\u001b[39m \u001b[38;5;241m*\u001b[39m (screen\u001b[38;5;241m.\u001b[39mget_width() \u001b[38;5;241m/\u001b[39m\u001b[38;5;241m/\u001b[39m \u001b[38;5;241m4\u001b[39m), screen\u001b[38;5;241m.\u001b[39mget_height() \u001b[38;5;241m/\u001b[39m\u001b[38;5;241m/\u001b[39m \u001b[38;5;241m8\u001b[39m)\n\u001b[1;32m     39\u001b[0m     screen\u001b[38;5;241m.\u001b[39mblit(text, textRect)\n\u001b[0;32m---> 41\u001b[0m \u001b[43mpygame\u001b[49m\u001b[38;5;241;43m.\u001b[39;49m\u001b[43mdisplay\u001b[49m\u001b[38;5;241;43m.\u001b[39;49m\u001b[43mflip\u001b[49m\u001b[43m(\u001b[49m\u001b[43m)\u001b[49m\n",
      "\u001b[0;31mKeyboardInterrupt\u001b[0m: "
     ]
    }
   ],
   "source": [
    "#Inilising for start of game\n",
    "pygame.init()\n",
    "screen = pygame.display.set_mode((1280, 720))\n",
    "clock = pygame.time.Clock()\n",
    "running = True\n",
    "dt = 0\n",
    "ball_pos = pygame.Vector2(screen.get_width() / 2, screen.get_height() / 2)\n",
    "ball_dir = pygame.Vector2(300, 300)\n",
    "player_pos = pygame.Vector2(30, 30)\n",
    "globScore = 0\n",
    "\n",
    "array = [player_pos.x / 100, player_pos.y / 100, ball_pos.x / 100, ball_pos.y / 100, ball_dir.x / 100, ball_dir.y / 100] #Starting values\n",
    "#Game loop\n",
    "while running:\n",
    "    direction = 0 #Resets direction\n",
    "    op1, op2 = network.run(array) #Two outputs from network. Taken from info from last turn\n",
    "                \n",
    "    if op1 > op2: #If output 1 is greater than output 2 the rectangle goes up, otherwise it goes down\n",
    "        direction = 1 #Up\n",
    "    else:\n",
    "        direction = -1 #Down\n",
    "\n",
    "    #Updating game state and displaying\n",
    "    array, running, globScore, player_pos, ball_pos, ball_dir = AIControlled(screen, player_pos, ball_pos, ball_dir, running, globScore, direction, clock)\n",
    "            \n",
    "pygame.quit()"
   ]
  },
  {
   "cell_type": "code",
   "execution_count": null,
   "metadata": {},
   "outputs": [],
   "source": []
  }
 ],
 "metadata": {
  "kernelspec": {
   "display_name": ".venv",
   "language": "python",
   "name": "python3"
  },
  "language_info": {
   "codemirror_mode": {
    "name": "ipython",
    "version": 3
   },
   "file_extension": ".py",
   "mimetype": "text/x-python",
   "name": "python",
   "nbconvert_exporter": "python",
   "pygments_lexer": "ipython3",
   "version": "3.11.2"
  }
 },
 "nbformat": 4,
 "nbformat_minor": 2
}
