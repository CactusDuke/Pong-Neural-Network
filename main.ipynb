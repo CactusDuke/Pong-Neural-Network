{
 "cells": [
  {
   "cell_type": "markdown",
   "metadata": {},
   "source": [
    "#Installing dependencies"
   ]
  },
  {
   "cell_type": "code",
   "execution_count": 1,
   "metadata": {},
   "outputs": [
    {
     "name": "stdout",
     "output_type": "stream",
     "text": [
      "Requirement already satisfied: pygame in ./.venv/lib/python3.11/site-packages (2.6.1)\n",
      "Collecting numpy\n",
      "  Downloading numpy-2.1.3-cp311-cp311-manylinux_2_17_x86_64.manylinux2014_x86_64.whl.metadata (62 kB)\n",
      "Downloading numpy-2.1.3-cp311-cp311-manylinux_2_17_x86_64.manylinux2014_x86_64.whl (16.3 MB)\n",
      "\u001b[2K   \u001b[90m━━━━━━━━━━━━━━━━━━━━━━━━━━━━━━━━━━━━━━━━\u001b[0m \u001b[32m16.3/16.3 MB\u001b[0m \u001b[31m22.9 MB/s\u001b[0m eta \u001b[36m0:00:00\u001b[0ma \u001b[36m0:00:01\u001b[0m\n",
      "\u001b[?25hInstalling collected packages: numpy\n",
      "Successfully installed numpy-2.1.3\n"
     ]
    }
   ],
   "source": [
    "!pip install pygame\n",
    "!pip install numpy"
   ]
  },
  {
   "cell_type": "code",
   "execution_count": null,
   "metadata": {},
   "outputs": [],
   "source": [
    "from training import *\n",
    "from display import *"
   ]
  },
  {
   "cell_type": "markdown",
   "metadata": {},
   "source": [
    "#Training\n",
    "If a text file with weights have not been created yet run this\n",
    "\n",
    "This takes ages and is bad, I need to optimise\n",
    "    >Look into speeding up and or by removing visual ascpect."
   ]
  },
  {
   "cell_type": "code",
   "execution_count": null,
   "metadata": {},
   "outputs": [],
   "source": []
  },
  {
   "cell_type": "markdown",
   "metadata": {},
   "source": [
    "#Running Trained Network\n",
    "For the minute just look at the saved text file and manually past.\n",
    "This is super manual for the minute"
   ]
  },
  {
   "cell_type": "code",
   "execution_count": null,
   "metadata": {},
   "outputs": [],
   "source": [
    "#This is a network that acheived 831 points\n",
    "\n",
    "#Layer 1 (Hidden Layer)\n",
    "weightsLayer1 = [[-0.1529508627413168, 3.482862155785938, 2.3325548032815275, 2.2033267131462475, -2.616073163147956, -0.3132512512063481], [1.896715295925882, 1.7092108684974994, -0.2622197504352236, -0.2988893768873544, 3.7005107960040333, -3.6705765930223704], [-3.475270413123554, 3.391303839944979, -3.0324124855500156, -5.030402735408237, -2.4455108359897273, -4.002082245015845]]\n",
    "biasesLayer1 = [0.42783214036605133, 2.7842252518168538, 0.6158182335814206]\n",
    "layer1 = Layer(3)\n",
    "layer1.weights = weightsLayer1\n",
    "layer1.biases = biasesLayer1\n",
    "\n",
    "#Layer 2 (Output Layer)\n",
    "weightsLayer2 = [[-5.089559645849146, 0.8950495124585208, 2.4925911853735827], [1.2745061397263158, -4.476238518213317, -2.918057769175149]]\n",
    "biasesLayer2 = [0.4617301379570703, -3.782978540390338]\n",
    "layer2 = Layer(2)\n",
    "layer2.weights = weightsLayer2\n",
    "layer2.biases = biasesLayer2\n",
    "\n",
    "#Array of layers to pass through\n",
    "empty = Layer(6) #Place holder for input layer\n",
    "array = [empty, layer1, layer2]\n",
    "\n",
    "network = Network(3, [6, 3, 2]) # Three layers with 6 node, 3 nodes and 2 nodes respectivly\n",
    "network.copyWeights(array)"
   ]
  },
  {
   "cell_type": "code",
   "execution_count": null,
   "metadata": {},
   "outputs": [],
   "source": [
    "pygame.init()\n",
    "screen = pygame.display.set_mode((1280, 720))\n",
    "clock = pygame.time.Clock()\n",
    "running = True\n",
    "dt = 0\n",
    "ball_pos = pygame.Vector2(screen.get_width() / 2, screen.get_height() / 2)\n",
    "ball_dir = pygame.Vector2(300, 300)\n",
    "player_pos = pygame.Vector2(30, 30)\n",
    "globScore = 0\n",
    "\n",
    "array = [player_pos.x / 100, player_pos.y / 100, ball_pos.x / 100, ball_pos.y / 100, ball_dir.x / 100, ball_dir.y / 100]\n",
    "while running:\n",
    "    for event in pygame.event.get():\n",
    "        if event.type == pygame.QUIT:\n",
    "            running = False\n",
    "    direction = 0\n",
    "    op1, op2 = network.run(array)\n",
    "             \n",
    "    if op1 > op2:\n",
    "        direction = 1\n",
    "    else:\n",
    "        direction = -1\n",
    "        \n",
    "    array, running, globScore, player_pos, ball_pos, ball_dir = AIControlled(screen, player_pos, ball_pos, ball_dir, running, globScore, direction, clock)\n",
    "\n",
    "pygame.quit()"
   ]
  }
 ],
 "metadata": {
  "kernelspec": {
   "display_name": ".venv",
   "language": "python",
   "name": "python3"
  },
  "language_info": {
   "codemirror_mode": {
    "name": "ipython",
    "version": 3
   },
   "file_extension": ".py",
   "mimetype": "text/x-python",
   "name": "python",
   "nbconvert_exporter": "python",
   "pygments_lexer": "ipython3",
   "version": "3.11.2"
  }
 },
 "nbformat": 4,
 "nbformat_minor": 2
}
