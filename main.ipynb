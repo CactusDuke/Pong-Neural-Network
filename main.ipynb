{
 "cells": [
  {
   "cell_type": "markdown",
   "metadata": {},
   "source": [
    "#Installing dependencies"
   ]
  },
  {
   "cell_type": "code",
   "execution_count": null,
   "metadata": {},
   "outputs": [],
   "source": [
    "!pip install pygame\n",
    "!pip install numpy"
   ]
  },
  {
   "cell_type": "code",
   "execution_count": 1,
   "metadata": {},
   "outputs": [
    {
     "name": "stdout",
     "output_type": "stream",
     "text": [
      "pygame 2.6.1 (SDL 2.28.4, Python 3.11.2)\n",
      "Hello from the pygame community. https://www.pygame.org/contribute.html\n"
     ]
    }
   ],
   "source": [
    "from training import *\n",
    "from game import *"
   ]
  },
  {
   "cell_type": "markdown",
   "metadata": {},
   "source": [
    "#Training\n",
    "If a text file with weights have not been created yet run this\n",
    "\n",
    "This takes ages and is bad, I need to optimise\n",
    "\n",
    "TODO>Look into speeding up and or removing visual ascpect."
   ]
  },
  {
   "cell_type": "code",
   "execution_count": null,
   "metadata": {},
   "outputs": [],
   "source": [
    "trainVisual(\"Training.txt\")"
   ]
  },
  {
   "cell_type": "code",
   "execution_count": null,
   "metadata": {},
   "outputs": [],
   "source": [
    "trainNoVisual(\"Training.txt\")"
   ]
  },
  {
   "cell_type": "markdown",
   "metadata": {},
   "source": [
    "#Running Trained Network\n",
    "For the minute just look at the saved text file and manually paste.\n",
    "\n",
    "This is super manual for the minute"
   ]
  },
  {
   "cell_type": "code",
   "execution_count": 2,
   "metadata": {},
   "outputs": [],
   "source": [
    "#This is a network that acheived 831 points\n",
    "\n",
    "#Layer 1 (Hidden Layer)\n",
    "weightsLayer1 = [[-0.1529508627413168, 3.482862155785938, 2.3325548032815275, 2.2033267131462475, -2.616073163147956, -0.3132512512063481], [1.896715295925882, 1.7092108684974994, -0.2622197504352236, -0.2988893768873544, 3.7005107960040333, -3.6705765930223704], [-3.475270413123554, 3.391303839944979, -3.0324124855500156, -5.030402735408237, -2.4455108359897273, -4.002082245015845]]\n",
    "biasesLayer1 = [0.42783214036605133, 2.7842252518168538, 0.6158182335814206]\n",
    "layer1 = Layer(3)\n",
    "layer1.weights = weightsLayer1\n",
    "layer1.biases = biasesLayer1\n",
    "\n",
    "#Layer 2 (Output Layer)\n",
    "weightsLayer2 = [[-5.089559645849146, 0.8950495124585208, 2.4925911853735827], [1.2745061397263158, -4.476238518213317, -2.918057769175149]]\n",
    "biasesLayer2 = [0.4617301379570703, -3.782978540390338]\n",
    "layer2 = Layer(2)\n",
    "layer2.weights = weightsLayer2\n",
    "layer2.biases = biasesLayer2\n",
    "\n",
    "#Array of layers to pass through\n",
    "empty = Layer(6) #Place holder for input layer\n",
    "array = [empty, layer1, layer2]\n",
    "\n",
    "network = Network(3, [6, 3, 2]) # Three layers with 6 node, 3 nodes and 2 nodes respectivly\n",
    "network.copyWeights(array)"
   ]
  },
  {
   "cell_type": "code",
   "execution_count": 2,
   "metadata": {},
   "outputs": [],
   "source": [
    "#Layer 1 (Hidden Layer)\n",
    "weightsLayer1 = [[-5.292837787734086, 3.6377711756348265, -2.0051313703627294, 2.341258376235533, -4.763290672120971, 2.6865148883494454], [-3.157358797606796, -0.1552172805841332, -4.32315543448139, 1.4015175928316483, 2.5599780401802623, 3.2972533975431695], [-0.08868532368803322, 4.960388413595977, -2.435726313398959, -4.3573596960527174, -1.0048327302707962, -4.975168274213089]]\n",
    "biasesLayer1 = [1.7653286754870419, 2.977568413805625, 1.1633700242029617]\n",
    "layer1 = Layer(3)\n",
    "layer1.weights = weightsLayer1\n",
    "layer1.biases = biasesLayer1\n",
    "\n",
    "#Layer 2 (Output Layer)\n",
    "weightsLayer2 = [[-4.88069724139816, -0.34508565898434035, 4.268501035309623], [0.5304990126308577, 1.1435588808291484, -5.1707085114367555]]\n",
    "biasesLayer2 = [3.485953559001032, 2.7149143568713834]\n",
    "layer2 = Layer(2)\n",
    "layer2.weights = weightsLayer2\n",
    "layer2.biases = biasesLayer2\n",
    "\n",
    "#Array of layers to pass through\n",
    "empty = Layer(6) #Place holder for input layer\n",
    "array = [empty, layer1, layer2]\n",
    "\n",
    "network = Network(3, [6, 3, 2]) # Three layers with 6 node, 3 nodes and 2 nodes respectivly\n",
    "network.copyWeights(array)"
   ]
  },
  {
   "cell_type": "code",
   "execution_count": 2,
   "metadata": {},
   "outputs": [],
   "source": [
    "#Hit over 700 with no visual training\n",
    "#Layer 1 (Hidden Layer)\n",
    "weightsLayer1 = [[-0.33868497959385996, -0.9378777397706111, -1.4754262881193085, 2.3799406350776966, 1.7996016302307791, -3.0184257817262456], [4.485536433010192, -1.8135399954723153, 0.849707352808484, -1.8640806416356215, -0.6536991644203745, 2.262342111306513], [-2.10424334302309, -0.1341017307385748, -3.861181747246201, -0.4652399453114983, 2.957296692414594, -4.1164208434891645]]\n",
    "biasesLayer1 = [1.5262177264819583, -4.8394401203413695, 2.7816774959347783]\n",
    "layer1 = Layer(3)\n",
    "layer1.weights = weightsLayer1\n",
    "layer1.biases = biasesLayer1\n",
    "\n",
    "#Layer 2 (Output Layer)\n",
    "weightsLayer2 = [[2.263027328927766, -1.6636308568652294, 1.2322262967999298], [-3.737741393173597, 3.34125452007444, -1.5636966152977845]]\n",
    "biasesLayer2 = [3.90102619597389, 4.6518730043719785]\n",
    "layer2 = Layer(2)\n",
    "layer2.weights = weightsLayer2\n",
    "layer2.biases = biasesLayer2\n",
    "\n",
    "#Array of layers to pass through\n",
    "empty = Layer(6) #Place holder for input layer\n",
    "array = [empty, layer1, layer2]\n",
    "\n",
    "network = Network(3, [6, 3, 2]) # Three layers with 6 node, 3 nodes and 2 nodes respectivly\n",
    "network.copyWeights(array)"
   ]
  },
  {
   "cell_type": "code",
   "execution_count": null,
   "metadata": {},
   "outputs": [],
   "source": [
    "#Values that have not been translated\n",
    "\"\"\"\n",
    "Score: 920\n",
    "\n",
    "Layer 1\n",
    "Weights\n",
    "-0.2615649403661867 3.2389492233524453 2.1159247839679387 1.6904419776199386 -2.922027130206965 -0.5651174133893144 ;1.5771829016897192 2.011139604329636 0.2824221182330008 -0.5420823159065009 2.6743880410919894 -3.599902804132724 ;-2.758246877950049 3.2470308818833487 -3.7567719476134434 -4.294167878469802 -3.0661365289647025 -3.919982266233788 ;\n",
    "Biases\n",
    "0.5220894917823738 2.989532166236309 0.34628063449073543 \n",
    "Layer 2\n",
    "Weights\n",
    "-4.867364392177736 0.5725914191679717 1.9307240968960544 ;0.6364083348544197 -4.92257893598071 -2.044480645090759 ;\n",
    "Biases\n",
    "0.4955263418015351 -3.7626443145350605 \n",
    "\"\"\""
   ]
  },
  {
   "cell_type": "code",
   "execution_count": 4,
   "metadata": {},
   "outputs": [
    {
     "name": "stdout",
     "output_type": "stream",
     "text": [
      "17\n"
     ]
    }
   ],
   "source": [
    "#Inilising for start of game\n",
    "pygame.init()\n",
    "screen = pygame.display.set_mode((1280, 720))\n",
    "clock = pygame.time.Clock()\n",
    "screenW = 1280\n",
    "screenH = 720\n",
    "running = True\n",
    "dt = 0\n",
    "ball_pos = pygame.Vector2(screen.get_width() / 2, screen.get_height() / 2)\n",
    "ball_dir = pygame.Vector2(300, 300)\n",
    "player_pos = pygame.Vector2(30, 30)\n",
    "globScore = 0\n",
    "array = [player_pos.x / 100, player_pos.y / 100, ball_pos.x / 100, ball_pos.y / 100, ball_dir.x / 100, ball_dir.y / 100]\n",
    "\n",
    "trainieNum = -1\n",
    "genCount = -1\n",
    "\n",
    "#Game\n",
    "while running:\n",
    "\n",
    "    for event in pygame.event.get():\n",
    "        if event.type == pygame.QUIT:\n",
    "            running = False\n",
    "\n",
    "            \n",
    "    direction = 0 #Resets direction\n",
    "    op1, op2 = network.run(array) #Two outputs from network. Taken from info from last turn\n",
    "                \n",
    "    if op1 > op2: #If output 1 is greater than output 2 the rectangle goes up, otherwise it goes down\n",
    "        direction = 1 #Up\n",
    "    else:\n",
    "        direction = -1 #Down\n",
    "\n",
    "    #Updating game states\n",
    "    array, running, globScore, player_pos, ball_pos, ball_dir = AIControlled(screenW, screenH, player_pos, ball_pos, ball_dir, running, globScore, direction, trainieNum, genCount, True, screen, clock)\n",
    "print(globScore)\n",
    "pygame.quit()"
   ]
  },
  {
   "cell_type": "code",
   "execution_count": null,
   "metadata": {},
   "outputs": [],
   "source": []
  }
 ],
 "metadata": {
  "kernelspec": {
   "display_name": ".venv",
   "language": "python",
   "name": "python3"
  },
  "language_info": {
   "codemirror_mode": {
    "name": "ipython",
    "version": 3
   },
   "file_extension": ".py",
   "mimetype": "text/x-python",
   "name": "python",
   "nbconvert_exporter": "python",
   "pygments_lexer": "ipython3",
   "version": "3.11.2"
  }
 },
 "nbformat": 4,
 "nbformat_minor": 2
}
